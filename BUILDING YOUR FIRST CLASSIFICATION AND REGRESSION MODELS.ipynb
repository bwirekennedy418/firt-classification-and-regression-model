{
 "cells": [
  {
   "cell_type": "markdown",
   "id": "af2a8764",
   "metadata": {},
   "source": [
    "# SUPERVISED LEARNING - BUILDING YOUR FIRST CLASSIFICATION AND REGRESSION MODELS\n",
    "\n",
    "\n",
    "### What is supervised learning?\n",
    "Given a set of data with target column included, we want to train a model that can learn to map the input features (also known as the independent variables) to the target.\n",
    "\n",
    "\n",
    "### Machine Learning Models\n",
    "\n",
    "We are going to focus on 2 types of ML models in this session. Both of them are supervised in nature (labels are known and are to be predicted).\n",
    "  \n",
    "\n",
    "**Classification**\n",
    "A classification model predicts discrete values. For example, classification models make predictions that answer questions like the following:\n",
    "\n",
    "- Is a given email message spam or not spam?\n",
    "\n",
    "- Is this an image of a dog, a cat, or a hamster?\n",
    "\n",
    "  \n",
    "**Regression**\n",
    "A regression model predicts continuous values. For example, regression models make predictions that answer questions like the following:\n",
    "\n",
    "- What is the value of a house in California?\n",
    "\n",
    "- What is the probability that a user will click on this ad?\n",
    "  \n"
   ]
  },
  {
   "cell_type": "markdown",
   "id": "10027626",
   "metadata": {},
   "source": [
    "### Classification Model walkthrough"
   ]
  },
  {
   "cell_type": "markdown",
   "id": "e42f5c85",
   "metadata": {},
   "source": [
    "# **Load datasets into pandas dataframe**"
   ]
  },
  {
   "cell_type": "code",
   "execution_count": 1,
   "id": "dea70465",
   "metadata": {},
   "outputs": [],
   "source": [
    "import pandas as pd\n",
    "import numpy as np\n",
    "\n",
    "# import iris data using pandas\n",
    "iris = pd.read_csv('https://raw.githubusercontent.com/dphi-official/Datasets/master/iris.csv')"
   ]
  },
  {
   "cell_type": "code",
   "execution_count": 2,
   "id": "5f777371",
   "metadata": {},
   "outputs": [
    {
     "name": "stdout",
     "output_type": "stream",
     "text": [
      "(150, 5)\n"
     ]
    },
    {
     "data": {
      "text/html": [
       "<div>\n",
       "<style scoped>\n",
       "    .dataframe tbody tr th:only-of-type {\n",
       "        vertical-align: middle;\n",
       "    }\n",
       "\n",
       "    .dataframe tbody tr th {\n",
       "        vertical-align: top;\n",
       "    }\n",
       "\n",
       "    .dataframe thead th {\n",
       "        text-align: right;\n",
       "    }\n",
       "</style>\n",
       "<table border=\"1\" class=\"dataframe\">\n",
       "  <thead>\n",
       "    <tr style=\"text-align: right;\">\n",
       "      <th></th>\n",
       "      <th>sepal.length</th>\n",
       "      <th>sepal.width</th>\n",
       "      <th>petal.length</th>\n",
       "      <th>petal.width</th>\n",
       "      <th>variety</th>\n",
       "    </tr>\n",
       "  </thead>\n",
       "  <tbody>\n",
       "    <tr>\n",
       "      <th>0</th>\n",
       "      <td>5.1</td>\n",
       "      <td>3.5</td>\n",
       "      <td>1.4</td>\n",
       "      <td>0.2</td>\n",
       "      <td>Setosa</td>\n",
       "    </tr>\n",
       "    <tr>\n",
       "      <th>1</th>\n",
       "      <td>4.9</td>\n",
       "      <td>3.0</td>\n",
       "      <td>1.4</td>\n",
       "      <td>0.2</td>\n",
       "      <td>Setosa</td>\n",
       "    </tr>\n",
       "    <tr>\n",
       "      <th>2</th>\n",
       "      <td>4.7</td>\n",
       "      <td>3.2</td>\n",
       "      <td>1.3</td>\n",
       "      <td>0.2</td>\n",
       "      <td>Setosa</td>\n",
       "    </tr>\n",
       "    <tr>\n",
       "      <th>3</th>\n",
       "      <td>4.6</td>\n",
       "      <td>3.1</td>\n",
       "      <td>1.5</td>\n",
       "      <td>0.2</td>\n",
       "      <td>Setosa</td>\n",
       "    </tr>\n",
       "    <tr>\n",
       "      <th>4</th>\n",
       "      <td>5.0</td>\n",
       "      <td>3.6</td>\n",
       "      <td>1.4</td>\n",
       "      <td>0.2</td>\n",
       "      <td>Setosa</td>\n",
       "    </tr>\n",
       "  </tbody>\n",
       "</table>\n",
       "</div>"
      ],
      "text/plain": [
       "   sepal.length  sepal.width  petal.length  petal.width variety\n",
       "0           5.1          3.5           1.4          0.2  Setosa\n",
       "1           4.9          3.0           1.4          0.2  Setosa\n",
       "2           4.7          3.2           1.3          0.2  Setosa\n",
       "3           4.6          3.1           1.5          0.2  Setosa\n",
       "4           5.0          3.6           1.4          0.2  Setosa"
      ]
     },
     "execution_count": 2,
     "metadata": {},
     "output_type": "execute_result"
    }
   ],
   "source": [
    "print(iris.shape)\n",
    "iris.head(5)"
   ]
  },
  {
   "cell_type": "markdown",
   "id": "cc22facb",
   "metadata": {},
   "source": [
    "**Data Types and Missing Values**"
   ]
  },
  {
   "cell_type": "code",
   "execution_count": 3,
   "id": "2fac6514",
   "metadata": {},
   "outputs": [
    {
     "name": "stdout",
     "output_type": "stream",
     "text": [
      "<class 'pandas.core.frame.DataFrame'>\n",
      "RangeIndex: 150 entries, 0 to 149\n",
      "Data columns (total 5 columns):\n",
      " #   Column        Non-Null Count  Dtype  \n",
      "---  ------        --------------  -----  \n",
      " 0   sepal.length  150 non-null    float64\n",
      " 1   sepal.width   150 non-null    float64\n",
      " 2   petal.length  150 non-null    float64\n",
      " 3   petal.width   150 non-null    float64\n",
      " 4   variety       150 non-null    object \n",
      "dtypes: float64(4), object(1)\n",
      "memory usage: 6.0+ KB\n"
     ]
    }
   ],
   "source": [
    "iris.info()"
   ]
  },
  {
   "cell_type": "code",
   "execution_count": 4,
   "id": "d5aadc36",
   "metadata": {},
   "outputs": [
    {
     "data": {
      "text/plain": [
       "sepal.length    0\n",
       "sepal.width     0\n",
       "petal.length    0\n",
       "petal.width     0\n",
       "variety         0\n",
       "dtype: int64"
      ]
     },
     "execution_count": 4,
     "metadata": {},
     "output_type": "execute_result"
    }
   ],
   "source": [
    "# check null value counts in iris data\n",
    "iris.isnull().sum()"
   ]
  },
  {
   "cell_type": "markdown",
   "id": "eced23df",
   "metadata": {},
   "source": [
    "**Descriptive Statistics**"
   ]
  },
  {
   "cell_type": "code",
   "execution_count": 5,
   "id": "e8cc98d9",
   "metadata": {},
   "outputs": [
    {
     "data": {
      "text/html": [
       "<div>\n",
       "<style scoped>\n",
       "    .dataframe tbody tr th:only-of-type {\n",
       "        vertical-align: middle;\n",
       "    }\n",
       "\n",
       "    .dataframe tbody tr th {\n",
       "        vertical-align: top;\n",
       "    }\n",
       "\n",
       "    .dataframe thead th {\n",
       "        text-align: right;\n",
       "    }\n",
       "</style>\n",
       "<table border=\"1\" class=\"dataframe\">\n",
       "  <thead>\n",
       "    <tr style=\"text-align: right;\">\n",
       "      <th></th>\n",
       "      <th>sepal.length</th>\n",
       "      <th>sepal.width</th>\n",
       "      <th>petal.length</th>\n",
       "      <th>petal.width</th>\n",
       "    </tr>\n",
       "  </thead>\n",
       "  <tbody>\n",
       "    <tr>\n",
       "      <th>count</th>\n",
       "      <td>150.000000</td>\n",
       "      <td>150.000000</td>\n",
       "      <td>150.000000</td>\n",
       "      <td>150.000000</td>\n",
       "    </tr>\n",
       "    <tr>\n",
       "      <th>mean</th>\n",
       "      <td>5.843333</td>\n",
       "      <td>3.057333</td>\n",
       "      <td>3.758000</td>\n",
       "      <td>1.199333</td>\n",
       "    </tr>\n",
       "    <tr>\n",
       "      <th>std</th>\n",
       "      <td>0.828066</td>\n",
       "      <td>0.435866</td>\n",
       "      <td>1.765298</td>\n",
       "      <td>0.762238</td>\n",
       "    </tr>\n",
       "    <tr>\n",
       "      <th>min</th>\n",
       "      <td>4.300000</td>\n",
       "      <td>2.000000</td>\n",
       "      <td>1.000000</td>\n",
       "      <td>0.100000</td>\n",
       "    </tr>\n",
       "    <tr>\n",
       "      <th>25%</th>\n",
       "      <td>5.100000</td>\n",
       "      <td>2.800000</td>\n",
       "      <td>1.600000</td>\n",
       "      <td>0.300000</td>\n",
       "    </tr>\n",
       "    <tr>\n",
       "      <th>50%</th>\n",
       "      <td>5.800000</td>\n",
       "      <td>3.000000</td>\n",
       "      <td>4.350000</td>\n",
       "      <td>1.300000</td>\n",
       "    </tr>\n",
       "    <tr>\n",
       "      <th>75%</th>\n",
       "      <td>6.400000</td>\n",
       "      <td>3.300000</td>\n",
       "      <td>5.100000</td>\n",
       "      <td>1.800000</td>\n",
       "    </tr>\n",
       "    <tr>\n",
       "      <th>max</th>\n",
       "      <td>7.900000</td>\n",
       "      <td>4.400000</td>\n",
       "      <td>6.900000</td>\n",
       "      <td>2.500000</td>\n",
       "    </tr>\n",
       "  </tbody>\n",
       "</table>\n",
       "</div>"
      ],
      "text/plain": [
       "       sepal.length  sepal.width  petal.length  petal.width\n",
       "count    150.000000   150.000000    150.000000   150.000000\n",
       "mean       5.843333     3.057333      3.758000     1.199333\n",
       "std        0.828066     0.435866      1.765298     0.762238\n",
       "min        4.300000     2.000000      1.000000     0.100000\n",
       "25%        5.100000     2.800000      1.600000     0.300000\n",
       "50%        5.800000     3.000000      4.350000     1.300000\n",
       "75%        6.400000     3.300000      5.100000     1.800000\n",
       "max        7.900000     4.400000      6.900000     2.500000"
      ]
     },
     "execution_count": 5,
     "metadata": {},
     "output_type": "execute_result"
    }
   ],
   "source": [
    "iris.describe()"
   ]
  },
  {
   "cell_type": "code",
   "execution_count": 6,
   "id": "51674ea8",
   "metadata": {},
   "outputs": [
    {
     "data": {
      "text/plain": [
       "variety\n",
       "Setosa        50\n",
       "Versicolor    50\n",
       "Virginica     50\n",
       "dtype: int64"
      ]
     },
     "execution_count": 6,
     "metadata": {},
     "output_type": "execute_result"
    }
   ],
   "source": [
    "iris.groupby('variety').size()"
   ]
  },
  {
   "cell_type": "code",
   "execution_count": 7,
   "id": "1b5b10b6",
   "metadata": {},
   "outputs": [
    {
     "data": {
      "text/html": [
       "<div>\n",
       "<style scoped>\n",
       "    .dataframe tbody tr th:only-of-type {\n",
       "        vertical-align: middle;\n",
       "    }\n",
       "\n",
       "    .dataframe tbody tr th {\n",
       "        vertical-align: top;\n",
       "    }\n",
       "\n",
       "    .dataframe thead th {\n",
       "        text-align: right;\n",
       "    }\n",
       "</style>\n",
       "<table border=\"1\" class=\"dataframe\">\n",
       "  <thead>\n",
       "    <tr style=\"text-align: right;\">\n",
       "      <th></th>\n",
       "      <th>sepal.length</th>\n",
       "      <th>sepal.width</th>\n",
       "      <th>petal.length</th>\n",
       "      <th>petal.width</th>\n",
       "    </tr>\n",
       "    <tr>\n",
       "      <th>variety</th>\n",
       "      <th></th>\n",
       "      <th></th>\n",
       "      <th></th>\n",
       "      <th></th>\n",
       "    </tr>\n",
       "  </thead>\n",
       "  <tbody>\n",
       "    <tr>\n",
       "      <th>Setosa</th>\n",
       "      <td>5.006</td>\n",
       "      <td>3.428</td>\n",
       "      <td>1.462</td>\n",
       "      <td>0.246</td>\n",
       "    </tr>\n",
       "    <tr>\n",
       "      <th>Versicolor</th>\n",
       "      <td>5.936</td>\n",
       "      <td>2.770</td>\n",
       "      <td>4.260</td>\n",
       "      <td>1.326</td>\n",
       "    </tr>\n",
       "    <tr>\n",
       "      <th>Virginica</th>\n",
       "      <td>6.588</td>\n",
       "      <td>2.974</td>\n",
       "      <td>5.552</td>\n",
       "      <td>2.026</td>\n",
       "    </tr>\n",
       "  </tbody>\n",
       "</table>\n",
       "</div>"
      ],
      "text/plain": [
       "            sepal.length  sepal.width  petal.length  petal.width\n",
       "variety                                                         \n",
       "Setosa             5.006        3.428         1.462        0.246\n",
       "Versicolor         5.936        2.770         4.260        1.326\n",
       "Virginica          6.588        2.974         5.552        2.026"
      ]
     },
     "execution_count": 7,
     "metadata": {},
     "output_type": "execute_result"
    }
   ],
   "source": [
    "iris.groupby('variety').mean()"
   ]
  },
  {
   "cell_type": "markdown",
   "id": "bd8c0c9b",
   "metadata": {},
   "source": [
    "# Split the Data into Train and Test"
   ]
  },
  {
   "cell_type": "markdown",
   "id": "26af751b",
   "metadata": {},
   "source": [
    "In Machine Learning problems, we always need to split the dataset into train and test sets in order to estimate the performance of the machine learning algorithm.  \n",
    "\n",
    "\n",
    "1. Train set — a subset to train a model (80%)\n",
    "2. Test set— a subset to test the trained model (20%)\n",
    "\n",
    "Your model is trained on 80% of the data and this model is experimented with the 20% data to generate metrics on the model performance.\n",
    "\n",
    "Let us split our datasets into train and test accordingly"
   ]
  },
  {
   "cell_type": "code",
   "execution_count": 8,
   "id": "1d1b2f5d",
   "metadata": {},
   "outputs": [
    {
     "name": "stdout",
     "output_type": "stream",
     "text": [
      "Shape of the original iris data:  (150, 5)\n",
      "Shape of the iris train data =  (120, 5)\n",
      "Shape of the iris test data =  (30, 5)\n"
     ]
    }
   ],
   "source": [
    "from sklearn import model_selection\n",
    "\n",
    "# Split data into train and test\n",
    "iris_train,iris_test = model_selection.train_test_split(iris,test_size=0.2)\n",
    "print(\"Shape of the original iris data: \", iris.shape)\n",
    "print(\"Shape of the iris train data = \", iris_train.shape)\n",
    "print(\"Shape of the iris test data = \", iris_test.shape)\n",
    "\n",
    "#Resetting index for prediction time\n",
    "iris_train = iris_train.reset_index(drop=True)\n",
    "iris_test = iris_test.reset_index(drop=True)"
   ]
  },
  {
   "cell_type": "markdown",
   "id": "f8439d59",
   "metadata": {},
   "source": [
    "In real life data science problems, often the data consist of a large number of attributes or features. This means selecting the most relevant features as the input to machine learning model is absolutely vital. \n",
    "\n",
    "\n",
    "**Curse of Dimensionality**\n",
    "\n",
    "\n",
    "The curse of dimensionality refers to various phenomena that arise when analyzing and organizing data in high-dimensional spaces (often with hundreds or thousands of dimensions) that do not occur in low-dimensional settings such as the three-dimensional physical space of everyday experience. \n",
    "\n",
    "As the dimensionality increases, the volume of the space increases so fast that the available data become sparse. This sparsity is problematic for any method that requires statistical significance.\n",
    "\n",
    "Therefore it is essential to quality control the data that is being fed to the model.\n",
    "\n",
    "Reference - https://en.wikipedia.org/wiki/Curse_of_dimensionality\n",
    "\n",
    "**Feature Selection Methods:**\n",
    "1. Correlation coefficient\n",
    "2. Variance threshold\n",
    "3. Recursive Feature Elimination\n",
    "4. LASSO regularization\n",
    "4. Random Forest Importance\n",
    "\n",
    "\n",
    "Reference - https://www.analyticsvidhya.com/blog/2020/10/feature-selection-techniques-in-machine-learning/"
   ]
  },
  {
   "cell_type": "markdown",
   "id": "04068ebf",
   "metadata": {},
   "source": [
    "#### Variance Threshold - Remove Low Var Features\n",
    "\n",
    "Variance threshold method removes features whose variance below a pre-defined cutoff value. It is based on the notion that features that do not vary much within themselves have low predictive power. The main weakness of variance threshold is that it does not consider the relationship of input features with the output feature.\n",
    "\n",
    "It should be noted that, before performing variance thresholding, all features should be standardized so they will have the same scale.\n",
    "\n",
    "Scikit-learn provides VarianceThreshold function to perform variance threshold method.\n",
    "\n",
    "Variance Threshold Documentation: https://scikit-learn.org/stable/modules/generated/sklearn.feature_selection.VarianceThreshold.html"
   ]
  },
  {
   "cell_type": "code",
   "execution_count": 9,
   "id": "97c6cb52",
   "metadata": {},
   "outputs": [],
   "source": [
    "iris_features = iris.drop('variety', axis=1)"
   ]
  },
  {
   "cell_type": "code",
   "execution_count": 10,
   "id": "f6d8c259",
   "metadata": {},
   "outputs": [
    {
     "data": {
      "text/plain": [
       "(150, 4)"
      ]
     },
     "execution_count": 10,
     "metadata": {},
     "output_type": "execute_result"
    }
   ],
   "source": [
    "iris_features.shape"
   ]
  },
  {
   "cell_type": "code",
   "execution_count": 11,
   "id": "0132f4f9",
   "metadata": {},
   "outputs": [
    {
     "name": "stdout",
     "output_type": "stream",
     "text": [
      "('sepal.length', 0.6811222222222223)\n",
      "('sepal.width', 0.1887128888888889)\n",
      "('petal.length', 3.0955026666666665)\n",
      "('petal.width', 0.5771328888888888)\n"
     ]
    }
   ],
   "source": [
    "from sklearn.feature_selection import VarianceThreshold\n",
    "\n",
    "iris_var = VarianceThreshold()\n",
    "\n",
    "# Perform variance thresholding\n",
    "iris_var.fit_transform(iris_features)\n",
    "\n",
    "# Print the name and variance of each feature\n",
    "for feature in zip(iris_features.columns, iris_var.variances_):\n",
    "    print(feature)"
   ]
  },
  {
   "cell_type": "markdown",
   "id": "a1024f7a",
   "metadata": {},
   "source": [
    "Visualize using bar chart"
   ]
  },
  {
   "cell_type": "code",
   "execution_count": 12,
   "id": "ba67c94d",
   "metadata": {},
   "outputs": [
    {
     "data": {
      "image/png": "[encoded data removed]",
      "text/plain": [
       "<Figure size 400x400 with 1 Axes>"
      ]
     },
     "metadata": {},
     "output_type": "display_data"
    }
   ],
   "source": [
    "# Create a bar chart for visualizing the variances\n",
    "import matplotlib.pyplot as plt\n",
    "%matplotlib inline\n",
    "\n",
    "plt.figure(figsize=(4,4))\n",
    "plt.bar(x=iris_features.columns, height=iris_var.variances_, color='tomato')\n",
    "plt.xticks(rotation='vertical')\n",
    "plt.ylabel('Variance')\n",
    "plt.title('Variance Comparison')\n",
    "\n",
    "plt.show()"
   ]
  },
  {
   "cell_type": "markdown",
   "id": "cd77ca57",
   "metadata": {},
   "source": [
    "By default, VarianceThreshold removes only zero-variance features. Zero-variance feature means that the feature has the same value in all instances. Suppose we want to eliminate features that have variance score below 0.2, we can specify threshold parameter."
   ]
  },
  {
   "cell_type": "code",
   "execution_count": 13,
   "id": "4ded508f",
   "metadata": {},
   "outputs": [
    {
     "name": "stdout",
     "output_type": "stream",
     "text": [
      "Number of features before variance thresholding: 4\n",
      "Number of features after variance thresholding: 3\n"
     ]
    }
   ],
   "source": [
    "# Create VarianceThreshold object to perform variance thresholding\n",
    "selector = VarianceThreshold(threshold=0.2)\n",
    "\n",
    "# Transform the dataset according to variance thresholding\n",
    "iris_features_new = selector.fit_transform(iris_features)\n",
    "\n",
    "# Print the results\n",
    "print('Number of features before variance thresholding: {}'.format(iris_features.shape[1]))\n",
    "print('Number of features after variance thresholding: {}'.format(iris_features_new.shape[1]))"
   ]
  },
  {
   "cell_type": "markdown",
   "id": "f2fc9cfb",
   "metadata": {},
   "source": [
    "#### Split data into features and label"
   ]
  },
  {
   "cell_type": "markdown",
   "id": "a8f571ef",
   "metadata": {},
   "source": [
    "For machine learning problems, you need to split your data into features and labels.\n",
    "\n",
    "\n",
    "1.   Features - Input X to the model\n",
    "2.   Label - Expected output Y\n",
    "\n",
    "Therefore, we will further split these train and test datasets by columns, so that for every dataset we have **features** and **labels** to denote if they are the input columns or the predict to columns\n",
    "\n"
   ]
  },
  {
   "cell_type": "code",
   "execution_count": 14,
   "id": "1ab1ca79",
   "metadata": {},
   "outputs": [
    {
     "name": "stdout",
     "output_type": "stream",
     "text": [
      "IRIS DATASET\n",
      "Features - ['sepal.length', 'petal.length', 'petal.width']\n",
      "Labels - ['variety']\n",
      "✔ Train data split into features and labels\n",
      "✔ Test data split into features and labels\n"
     ]
    }
   ],
   "source": [
    "#define input and predict to columns\n",
    "iris_features = ['sepal.length', 'petal.length', 'petal.width']\n",
    "iris_labels = ['variety']\n",
    "\n",
    "print('IRIS DATASET')\n",
    "print(\"Features - \" + str(iris_features))\n",
    "print(\"Labels - \" + str(iris_labels))\n",
    "\n",
    "iris_train_features = iris_train[iris_features]\n",
    "iris_train_label = iris_train[iris_labels]\n",
    "print('✔ Train data split into features and labels')\n",
    "\n",
    "iris_test_features = iris_test[iris_features]\n",
    "iris_test_label = iris_test[iris_labels]\n",
    "print('✔ Test data split into features and labels')"
   ]
  },
  {
   "cell_type": "markdown",
   "id": "f5678399",
   "metadata": {},
   "source": [
    "### Decision Trees\n",
    "Decision Trees is used for solving supervised learning problems for both classification and regression tasks. The goal is to create a model that predicts the value of a target variable by learning simple decision rules inferred from the data features.\n",
    "\n",
    "The decision rules are generally in form of if-then-else statements. The deeper the tree, the more complex the rules and fitter the model.\n",
    "\n",
    "**Terminology**\n",
    "\n",
    "Root Node: It represents the entire population or sample and this further gets divided into two or more homogeneous sets.\n",
    "\n",
    "Splitting: It is a process of dividing a node into two or more sub-nodes.\n",
    "\n",
    "Decision Node: When a sub-node splits into further sub-nodes, then it is called the decision node.\n",
    "Leaf/Terminal Node: Nodes do not split is called Leaf or Terminal node.\n",
    "\n",
    "![Dt_example.png](data:image/png;base64,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)\n",
    "\n",
    "\n",
    "Documentation at https://scikit-learn.org/stable/modules/generated/sklearn.tree.DecisionTreeClassifier.html"
   ]
  },
  {
   "cell_type": "code",
   "execution_count": 15,
   "id": "7bc31382",
   "metadata": {},
   "outputs": [
    {
     "data": {
      "text/html": [
       "<style>#sk-container-id-1 {color: black;background-color: white;}#sk-container-id-1 pre{padding: 0;}#sk-container-id-1 div.sk-toggleable {background-color: white;}#sk-container-id-1 label.sk-toggleable__label {cursor: pointer;display: block;width: 100%;margin-bottom: 0;padding: 0.3em;box-sizing: border-box;text-align: center;}#sk-container-id-1 label.sk-toggleable__label-arrow:before {content: \"▸\";float: left;margin-right: 0.25em;color: #696969;}#sk-container-id-1 label.sk-toggleable__label-arrow:hover:before {color: black;}#sk-container-id-1 div.sk-estimator:hover label.sk-toggleable__label-arrow:before {color: black;}#sk-container-id-1 div.sk-toggleable__content {max-height: 0;max-width: 0;overflow: hidden;text-align: left;background-color: #f0f8ff;}#sk-container-id-1 div.sk-toggleable__content pre {margin: 0.2em;color: black;border-radius: 0.25em;background-color: #f0f8ff;}#sk-container-id-1 input.sk-toggleable__control:checked~div.sk-toggleable__content {max-height: 200px;max-width: 100%;overflow: auto;}#sk-container-id-1 input.sk-toggleable__control:checked~label.sk-toggleable__label-arrow:before {content: \"▾\";}#sk-container-id-1 div.sk-estimator input.sk-toggleable__control:checked~label.sk-toggleable__label {background-color: #d4ebff;}#sk-container-id-1 div.sk-label input.sk-toggleable__control:checked~label.sk-toggleable__label {background-color: #d4ebff;}#sk-container-id-1 input.sk-hidden--visually {border: 0;clip: rect(1px 1px 1px 1px);clip: rect(1px, 1px, 1px, 1px);height: 1px;margin: -1px;overflow: hidden;padding: 0;position: absolute;width: 1px;}#sk-container-id-1 div.sk-estimator {font-family: monospace;background-color: #f0f8ff;border: 1px dotted black;border-radius: 0.25em;box-sizing: border-box;margin-bottom: 0.5em;}#sk-container-id-1 div.sk-estimator:hover {background-color: #d4ebff;}#sk-container-id-1 div.sk-parallel-item::after {content: \"\";width: 100%;border-bottom: 1px solid gray;flex-grow: 1;}#sk-container-id-1 div.sk-label:hover label.sk-toggleable__label {background-color: #d4ebff;}#sk-container-id-1 div.sk-serial::before {content: \"\";position: absolute;border-left: 1px solid gray;box-sizing: border-box;top: 0;bottom: 0;left: 50%;z-index: 0;}#sk-container-id-1 div.sk-serial {display: flex;flex-direction: column;align-items: center;background-color: white;padding-right: 0.2em;padding-left: 0.2em;position: relative;}#sk-container-id-1 div.sk-item {position: relative;z-index: 1;}#sk-container-id-1 div.sk-parallel {display: flex;align-items: stretch;justify-content: center;background-color: white;position: relative;}#sk-container-id-1 div.sk-item::before, #sk-container-id-1 div.sk-parallel-item::before {content: \"\";position: absolute;border-left: 1px solid gray;box-sizing: border-box;top: 0;bottom: 0;left: 50%;z-index: -1;}#sk-container-id-1 div.sk-parallel-item {display: flex;flex-direction: column;z-index: 1;position: relative;background-color: white;}#sk-container-id-1 div.sk-parallel-item:first-child::after {align-self: flex-end;width: 50%;}#sk-container-id-1 div.sk-parallel-item:last-child::after {align-self: flex-start;width: 50%;}#sk-container-id-1 div.sk-parallel-item:only-child::after {width: 0;}#sk-container-id-1 div.sk-dashed-wrapped {border: 1px dashed gray;margin: 0 0.4em 0.5em 0.4em;box-sizing: border-box;padding-bottom: 0.4em;background-color: white;}#sk-container-id-1 div.sk-label label {font-family: monospace;font-weight: bold;display: inline-block;line-height: 1.2em;}#sk-container-id-1 div.sk-label-container {text-align: center;}#sk-container-id-1 div.sk-container {/* jupyter's `normalize.less` sets `[hidden] { display: none; }` but bootstrap.min.css set `[hidden] { display: none !important; }` so we also need the `!important` here to be able to override the default hidden behavior on the sphinx rendered scikit-learn.org. See: https://github.com/scikit-learn/scikit-learn/issues/21755 */display: inline-block !important;position: relative;}#sk-container-id-1 div.sk-text-repr-fallback {display: none;}</style><div id=\"sk-container-id-1\" class=\"sk-top-container\"><div class=\"sk-text-repr-fallback\"><pre>DecisionTreeClassifier(max_depth=3)</pre><b>In a Jupyter environment, please rerun this cell to show the HTML representation or trust the notebook. <br />On GitHub, the HTML representation is unable to render, please try loading this page with nbviewer.org.</b></div><div class=\"sk-container\" hidden><div class=\"sk-item\"><div class=\"sk-estimator sk-toggleable\"><input class=\"sk-toggleable__control sk-hidden--visually\" id=\"sk-estimator-id-1\" type=\"checkbox\" checked><label for=\"sk-estimator-id-1\" class=\"sk-toggleable__label sk-toggleable__label-arrow\">DecisionTreeClassifier</label><div class=\"sk-toggleable__content\"><pre>DecisionTreeClassifier(max_depth=3)</pre></div></div></div></div></div>"
      ],
      "text/plain": [
       "DecisionTreeClassifier(max_depth=3)"
      ]
     },
     "execution_count": 15,
     "metadata": {},
     "output_type": "execute_result"
    }
   ],
   "source": [
    "from sklearn.tree import DecisionTreeClassifier\n",
    "\n",
    "# create the model object\n",
    "dt = DecisionTreeClassifier(max_depth=3) # max-depth controls the maximum depth of the tree\n",
    "\n",
    "# fit the model on train data\n",
    "dt.fit(iris_train_features, iris_train_label)"
   ]
  },
  {
   "cell_type": "code",
   "execution_count": 16,
   "id": "023e0f67",
   "metadata": {},
   "outputs": [
    {
     "data": {
      "text/html": [
       "<div>\n",
       "<style scoped>\n",
       "    .dataframe tbody tr th:only-of-type {\n",
       "        vertical-align: middle;\n",
       "    }\n",
       "\n",
       "    .dataframe tbody tr th {\n",
       "        vertical-align: top;\n",
       "    }\n",
       "\n",
       "    .dataframe thead th {\n",
       "        text-align: right;\n",
       "    }\n",
       "</style>\n",
       "<table border=\"1\" class=\"dataframe\">\n",
       "  <thead>\n",
       "    <tr style=\"text-align: right;\">\n",
       "      <th></th>\n",
       "      <th>dt_prediction</th>\n",
       "    </tr>\n",
       "  </thead>\n",
       "  <tbody>\n",
       "    <tr>\n",
       "      <th>0</th>\n",
       "      <td>Versicolor</td>\n",
       "    </tr>\n",
       "    <tr>\n",
       "      <th>1</th>\n",
       "      <td>Versicolor</td>\n",
       "    </tr>\n",
       "    <tr>\n",
       "      <th>2</th>\n",
       "      <td>Virginica</td>\n",
       "    </tr>\n",
       "    <tr>\n",
       "      <th>3</th>\n",
       "      <td>Setosa</td>\n",
       "    </tr>\n",
       "    <tr>\n",
       "      <th>4</th>\n",
       "      <td>Setosa</td>\n",
       "    </tr>\n",
       "  </tbody>\n",
       "</table>\n",
       "</div>"
      ],
      "text/plain": [
       "  dt_prediction\n",
       "0    Versicolor\n",
       "1    Versicolor\n",
       "2     Virginica\n",
       "3        Setosa\n",
       "4        Setosa"
      ]
     },
     "execution_count": 16,
     "metadata": {},
     "output_type": "execute_result"
    }
   ],
   "source": [
    "#Predictions on the Test data\n",
    "predictions_dt = dt.predict(iris_test_features)\n",
    "\n",
    "#Putting the above predictions and probabilities together to create a readable df\n",
    "iris_pred_label = pd.DataFrame(predictions_dt.reshape(len(predictions_dt),1))\n",
    "iris_pred_label.rename(columns={0:'dt_prediction'}, inplace=True)\n",
    "iris_pred_label.head(5)"
   ]
  },
  {
   "cell_type": "code",
   "execution_count": 17,
   "id": "4a61c436",
   "metadata": {},
   "outputs": [
    {
     "data": {
      "text/html": [
       "<div>\n",
       "<style scoped>\n",
       "    .dataframe tbody tr th:only-of-type {\n",
       "        vertical-align: middle;\n",
       "    }\n",
       "\n",
       "    .dataframe tbody tr th {\n",
       "        vertical-align: top;\n",
       "    }\n",
       "\n",
       "    .dataframe thead th {\n",
       "        text-align: right;\n",
       "    }\n",
       "</style>\n",
       "<table border=\"1\" class=\"dataframe\">\n",
       "  <thead>\n",
       "    <tr style=\"text-align: right;\">\n",
       "      <th></th>\n",
       "      <th>variety</th>\n",
       "      <th>dt_prediction</th>\n",
       "    </tr>\n",
       "  </thead>\n",
       "  <tbody>\n",
       "    <tr>\n",
       "      <th>0</th>\n",
       "      <td>Versicolor</td>\n",
       "      <td>Versicolor</td>\n",
       "    </tr>\n",
       "    <tr>\n",
       "      <th>1</th>\n",
       "      <td>Virginica</td>\n",
       "      <td>Versicolor</td>\n",
       "    </tr>\n",
       "    <tr>\n",
       "      <th>2</th>\n",
       "      <td>Virginica</td>\n",
       "      <td>Virginica</td>\n",
       "    </tr>\n",
       "    <tr>\n",
       "      <th>3</th>\n",
       "      <td>Setosa</td>\n",
       "      <td>Setosa</td>\n",
       "    </tr>\n",
       "    <tr>\n",
       "      <th>4</th>\n",
       "      <td>Setosa</td>\n",
       "      <td>Setosa</td>\n",
       "    </tr>\n",
       "  </tbody>\n",
       "</table>\n",
       "</div>"
      ],
      "text/plain": [
       "      variety dt_prediction\n",
       "0  Versicolor    Versicolor\n",
       "1   Virginica    Versicolor\n",
       "2   Virginica     Virginica\n",
       "3      Setosa        Setosa\n",
       "4      Setosa        Setosa"
      ]
     },
     "execution_count": 17,
     "metadata": {},
     "output_type": "execute_result"
    }
   ],
   "source": [
    "#Concat the predictions of linear regression to the test dataset\n",
    "iris_test_pred = pd.concat([iris_test_label, iris_pred_label], axis=1)\n",
    "iris_test_pred.head()"
   ]
  },
  {
   "cell_type": "markdown",
   "id": "29467321",
   "metadata": {},
   "source": [
    "# Model Evaluation"
   ]
  },
  {
   "cell_type": "code",
   "execution_count": 18,
   "id": "8b6d07dc",
   "metadata": {},
   "outputs": [
    {
     "name": "stdout",
     "output_type": "stream",
     "text": [
      "accuracy is 96.66666666666667 %\n"
     ]
    }
   ],
   "source": [
    "# Accuracy score\n",
    "from sklearn.metrics import accuracy_score\n",
    "print('accuracy is',accuracy_score(iris_test_label, iris_pred_label)*100.0, \"%\")"
   ]
  },
  {
   "cell_type": "markdown",
   "id": "706f6c15",
   "metadata": {},
   "source": [
    "Confusion Matrix: A table used to describe the performance of a classification model (or \"classifier\") on a set of test data for which the true values are known."
   ]
  },
  {
   "cell_type": "code",
   "execution_count": 19,
   "id": "36db8ca8",
   "metadata": {},
   "outputs": [],
   "source": [
    "# Creates a confusion matrix\n",
    "import sklearn.metrics as metrics\n",
    "import seaborn as sns\n",
    "cm = metrics.confusion_matrix(iris_test_label, iris_pred_label) "
   ]
  },
  {
   "cell_type": "code",
   "execution_count": 20,
   "id": "6a1ec2b5",
   "metadata": {},
   "outputs": [
    {
     "data": {
      "image/png": "[encoded data removed]",
      "text/plain": [
       "<Figure size 550x400 with 2 Axes>"
      ]
     },
     "metadata": {},
     "output_type": "display_data"
    }
   ],
   "source": [
    " # Transform to df for easier plotting\n",
    "cm_df = pd.DataFrame(cm,\n",
    "                     index = ['setosa','versicolor','virginica'], \n",
    "                     columns = ['setosa','versicolor','virginica'])\n",
    "\n",
    "plt.figure(figsize=(5.5,4))\n",
    "sns.heatmap(cm_df, annot=True)\n",
    "plt.title('Decision Tree \\nAccuracy:{0:.3f}'.format(accuracy_score(iris_test_label, iris_pred_label)))\n",
    "plt.ylabel('True label')\n",
    "plt.xlabel('Predicted label')\n",
    "plt.show()"
   ]
  },
  {
   "cell_type": "code",
   "execution_count": 21,
   "id": "9b73cc4c",
   "metadata": {},
   "outputs": [
    {
     "data": {
      "image/svg+xml": [
       "<?xml version=\"1.0\" encoding=\"UTF-8\" standalone=\"no\"?>\n",
       "<!DOCTYPE svg PUBLIC \"-//W3C//DTD SVG 1.1//EN\"\n",
       " \"http://www.w3.org/Graphics/SVG/1.1/DTD/svg11.dtd\">\n",
       "<!-- Generated by graphviz version 2.50.0 (0)\n",
       " -->\n",
       "<!-- Title: Tree Pages: 1 -->\n",
       "<svg width=\"544pt\" height=\"433pt\"\n",
       " viewBox=\"0.00 0.00 544.00 433.00\" xmlns=\"http://www.w3.org/2000/svg\" xmlns:xlink=\"http://www.w3.org/1999/xlink\">\n",
       "<g id=\"graph0\" class=\"graph\" transform=\"scale(1 1) rotate(0) translate(4 429)\">\n",
       "<title>Tree</title>\n",
       "<polygon fill=\"white\" stroke=\"transparent\" points=\"-4,4 -4,-429 540,-429 540,4 -4,4\"/>\n",
       "<!-- 0 -->\n",
       "<g id=\"node1\" class=\"node\">\n",
       "<title>0</title>\n",
       "<polygon fill=\"#fdfffd\" stroke=\"black\" points=\"265.5,-425 133.5,-425 133.5,-342 265.5,-342 265.5,-425\"/>\n",
       "<text text-anchor=\"middle\" x=\"199.5\" y=\"-409.8\" font-family=\"Helvetica,sans-Serif\" font-size=\"14.00\">petal.width &lt;= 0.8</text>\n",
       "<text text-anchor=\"middle\" x=\"199.5\" y=\"-394.8\" font-family=\"Helvetica,sans-Serif\" font-size=\"14.00\">gini = 0.667</text>\n",
       "<text text-anchor=\"middle\" x=\"199.5\" y=\"-379.8\" font-family=\"Helvetica,sans-Serif\" font-size=\"14.00\">samples = 120</text>\n",
       "<text text-anchor=\"middle\" x=\"199.5\" y=\"-364.8\" font-family=\"Helvetica,sans-Serif\" font-size=\"14.00\">value = [39, 41, 40]</text>\n",
       "<text text-anchor=\"middle\" x=\"199.5\" y=\"-349.8\" font-family=\"Helvetica,sans-Serif\" font-size=\"14.00\">class = versicolor</text>\n",
       "</g>\n",
       "<!-- 1 -->\n",
       "<g id=\"node2\" class=\"node\">\n",
       "<title>1</title>\n",
       "<polygon fill=\"#e58139\" stroke=\"black\" points=\"187,-298.5 70,-298.5 70,-230.5 187,-230.5 187,-298.5\"/>\n",
       "<text text-anchor=\"middle\" x=\"128.5\" y=\"-283.3\" font-family=\"Helvetica,sans-Serif\" font-size=\"14.00\">gini = 0.0</text>\n",
       "<text text-anchor=\"middle\" x=\"128.5\" y=\"-268.3\" font-family=\"Helvetica,sans-Serif\" font-size=\"14.00\">samples = 39</text>\n",
       "<text text-anchor=\"middle\" x=\"128.5\" y=\"-253.3\" font-family=\"Helvetica,sans-Serif\" font-size=\"14.00\">value = [39, 0, 0]</text>\n",
       "<text text-anchor=\"middle\" x=\"128.5\" y=\"-238.3\" font-family=\"Helvetica,sans-Serif\" font-size=\"14.00\">class = setosa</text>\n",
       "</g>\n",
       "<!-- 0&#45;&gt;1 -->\n",
       "<g id=\"edge1\" class=\"edge\">\n",
       "<title>0&#45;&gt;1</title>\n",
       "<path fill=\"none\" stroke=\"black\" d=\"M174.87,-341.91C168.1,-330.76 160.76,-318.66 153.95,-307.44\"/>\n",
       "<polygon fill=\"black\" stroke=\"black\" points=\"156.81,-305.4 148.63,-298.67 150.82,-309.03 156.81,-305.4\"/>\n",
       "<text text-anchor=\"middle\" x=\"142.69\" y=\"-319.25\" font-family=\"Helvetica,sans-Serif\" font-size=\"14.00\">True</text>\n",
       "</g>\n",
       "<!-- 2 -->\n",
       "<g id=\"node3\" class=\"node\">\n",
       "<title>2</title>\n",
       "<polygon fill=\"#fafefc\" stroke=\"black\" points=\"336,-306 205,-306 205,-223 336,-223 336,-306\"/>\n",
       "<text text-anchor=\"middle\" x=\"270.5\" y=\"-290.8\" font-family=\"Helvetica,sans-Serif\" font-size=\"14.00\">petal.width &lt;= 1.75</text>\n",
       "<text text-anchor=\"middle\" x=\"270.5\" y=\"-275.8\" font-family=\"Helvetica,sans-Serif\" font-size=\"14.00\">gini = 0.5</text>\n",
       "<text text-anchor=\"middle\" x=\"270.5\" y=\"-260.8\" font-family=\"Helvetica,sans-Serif\" font-size=\"14.00\">samples = 81</text>\n",
       "<text text-anchor=\"middle\" x=\"270.5\" y=\"-245.8\" font-family=\"Helvetica,sans-Serif\" font-size=\"14.00\">value = [0, 41, 40]</text>\n",
       "<text text-anchor=\"middle\" x=\"270.5\" y=\"-230.8\" font-family=\"Helvetica,sans-Serif\" font-size=\"14.00\">class = versicolor</text>\n",
       "</g>\n",
       "<!-- 0&#45;&gt;2 -->\n",
       "<g id=\"edge2\" class=\"edge\">\n",
       "<title>0&#45;&gt;2</title>\n",
       "<path fill=\"none\" stroke=\"black\" d=\"M224.13,-341.91C229.47,-333.1 235.18,-323.7 240.7,-314.61\"/>\n",
       "<polygon fill=\"black\" stroke=\"black\" points=\"243.71,-316.39 245.91,-306.02 237.73,-312.75 243.71,-316.39\"/>\n",
       "<text text-anchor=\"middle\" x=\"251.85\" y=\"-326.6\" font-family=\"Helvetica,sans-Serif\" font-size=\"14.00\">False</text>\n",
       "</g>\n",
       "<!-- 3 -->\n",
       "<g id=\"node4\" class=\"node\">\n",
       "<title>3</title>\n",
       "<polygon fill=\"#4de88e\" stroke=\"black\" points=\"261,-187 124,-187 124,-104 261,-104 261,-187\"/>\n",
       "<text text-anchor=\"middle\" x=\"192.5\" y=\"-171.8\" font-family=\"Helvetica,sans-Serif\" font-size=\"14.00\">petal.length &lt;= 5.05</text>\n",
       "<text text-anchor=\"middle\" x=\"192.5\" y=\"-156.8\" font-family=\"Helvetica,sans-Serif\" font-size=\"14.00\">gini = 0.165</text>\n",
       "<text text-anchor=\"middle\" x=\"192.5\" y=\"-141.8\" font-family=\"Helvetica,sans-Serif\" font-size=\"14.00\">samples = 44</text>\n",
       "<text text-anchor=\"middle\" x=\"192.5\" y=\"-126.8\" font-family=\"Helvetica,sans-Serif\" font-size=\"14.00\">value = [0, 40, 4]</text>\n",
       "<text text-anchor=\"middle\" x=\"192.5\" y=\"-111.8\" font-family=\"Helvetica,sans-Serif\" font-size=\"14.00\">class = versicolor</text>\n",
       "</g>\n",
       "<!-- 2&#45;&gt;3 -->\n",
       "<g id=\"edge3\" class=\"edge\">\n",
       "<title>2&#45;&gt;3</title>\n",
       "<path fill=\"none\" stroke=\"black\" d=\"M243.44,-222.91C237.57,-214.1 231.3,-204.7 225.24,-195.61\"/>\n",
       "<polygon fill=\"black\" stroke=\"black\" points=\"227.97,-193.4 219.51,-187.02 222.15,-197.28 227.97,-193.4\"/>\n",
       "</g>\n",
       "<!-- 6 -->\n",
       "<g id=\"node7\" class=\"node\">\n",
       "<title>6</title>\n",
       "<polygon fill=\"#843ee6\" stroke=\"black\" points=\"416,-187 279,-187 279,-104 416,-104 416,-187\"/>\n",
       "<text text-anchor=\"middle\" x=\"347.5\" y=\"-171.8\" font-family=\"Helvetica,sans-Serif\" font-size=\"14.00\">petal.length &lt;= 4.85</text>\n",
       "<text text-anchor=\"middle\" x=\"347.5\" y=\"-156.8\" font-family=\"Helvetica,sans-Serif\" font-size=\"14.00\">gini = 0.053</text>\n",
       "<text text-anchor=\"middle\" x=\"347.5\" y=\"-141.8\" font-family=\"Helvetica,sans-Serif\" font-size=\"14.00\">samples = 37</text>\n",
       "<text text-anchor=\"middle\" x=\"347.5\" y=\"-126.8\" font-family=\"Helvetica,sans-Serif\" font-size=\"14.00\">value = [0, 1, 36]</text>\n",
       "<text text-anchor=\"middle\" x=\"347.5\" y=\"-111.8\" font-family=\"Helvetica,sans-Serif\" font-size=\"14.00\">class = verginica</text>\n",
       "</g>\n",
       "<!-- 2&#45;&gt;6 -->\n",
       "<g id=\"edge6\" class=\"edge\">\n",
       "<title>2&#45;&gt;6</title>\n",
       "<path fill=\"none\" stroke=\"black\" d=\"M297.21,-222.91C303.01,-214.1 309.2,-204.7 315.18,-195.61\"/>\n",
       "<polygon fill=\"black\" stroke=\"black\" points=\"318.26,-197.3 320.83,-187.02 312.41,-193.45 318.26,-197.3\"/>\n",
       "</g>\n",
       "<!-- 4 -->\n",
       "<g id=\"node5\" class=\"node\">\n",
       "<title>4</title>\n",
       "<polygon fill=\"#3ee684\" stroke=\"black\" points=\"121,-68 0,-68 0,0 121,0 121,-68\"/>\n",
       "<text text-anchor=\"middle\" x=\"60.5\" y=\"-52.8\" font-family=\"Helvetica,sans-Serif\" font-size=\"14.00\">gini = 0.049</text>\n",
       "<text text-anchor=\"middle\" x=\"60.5\" y=\"-37.8\" font-family=\"Helvetica,sans-Serif\" font-size=\"14.00\">samples = 40</text>\n",
       "<text text-anchor=\"middle\" x=\"60.5\" y=\"-22.8\" font-family=\"Helvetica,sans-Serif\" font-size=\"14.00\">value = [0, 39, 1]</text>\n",
       "<text text-anchor=\"middle\" x=\"60.5\" y=\"-7.8\" font-family=\"Helvetica,sans-Serif\" font-size=\"14.00\">class = versicolor</text>\n",
       "</g>\n",
       "<!-- 3&#45;&gt;4 -->\n",
       "<g id=\"edge4\" class=\"edge\">\n",
       "<title>3&#45;&gt;4</title>\n",
       "<path fill=\"none\" stroke=\"black\" d=\"M143.35,-103.73C131.91,-94.24 119.76,-84.16 108.38,-74.72\"/>\n",
       "<polygon fill=\"black\" stroke=\"black\" points=\"110.57,-71.99 100.64,-68.3 106.1,-77.38 110.57,-71.99\"/>\n",
       "</g>\n",
       "<!-- 5 -->\n",
       "<g id=\"node6\" class=\"node\">\n",
       "<title>5</title>\n",
       "<polygon fill=\"#ab7bee\" stroke=\"black\" points=\"256,-68 139,-68 139,0 256,0 256,-68\"/>\n",
       "<text text-anchor=\"middle\" x=\"197.5\" y=\"-52.8\" font-family=\"Helvetica,sans-Serif\" font-size=\"14.00\">gini = 0.375</text>\n",
       "<text text-anchor=\"middle\" x=\"197.5\" y=\"-37.8\" font-family=\"Helvetica,sans-Serif\" font-size=\"14.00\">samples = 4</text>\n",
       "<text text-anchor=\"middle\" x=\"197.5\" y=\"-22.8\" font-family=\"Helvetica,sans-Serif\" font-size=\"14.00\">value = [0, 1, 3]</text>\n",
       "<text text-anchor=\"middle\" x=\"197.5\" y=\"-7.8\" font-family=\"Helvetica,sans-Serif\" font-size=\"14.00\">class = verginica</text>\n",
       "</g>\n",
       "<!-- 3&#45;&gt;5 -->\n",
       "<g id=\"edge5\" class=\"edge\">\n",
       "<title>3&#45;&gt;5</title>\n",
       "<path fill=\"none\" stroke=\"black\" d=\"M194.36,-103.73C194.74,-95.52 195.13,-86.86 195.51,-78.56\"/>\n",
       "<polygon fill=\"black\" stroke=\"black\" points=\"199.02,-78.45 195.98,-68.3 192.03,-78.13 199.02,-78.45\"/>\n",
       "</g>\n",
       "<!-- 7 -->\n",
       "<g id=\"node8\" class=\"node\">\n",
       "<title>7</title>\n",
       "<polygon fill=\"#c09cf2\" stroke=\"black\" points=\"401,-68 284,-68 284,0 401,0 401,-68\"/>\n",
       "<text text-anchor=\"middle\" x=\"342.5\" y=\"-52.8\" font-family=\"Helvetica,sans-Serif\" font-size=\"14.00\">gini = 0.444</text>\n",
       "<text text-anchor=\"middle\" x=\"342.5\" y=\"-37.8\" font-family=\"Helvetica,sans-Serif\" font-size=\"14.00\">samples = 3</text>\n",
       "<text text-anchor=\"middle\" x=\"342.5\" y=\"-22.8\" font-family=\"Helvetica,sans-Serif\" font-size=\"14.00\">value = [0, 1, 2]</text>\n",
       "<text text-anchor=\"middle\" x=\"342.5\" y=\"-7.8\" font-family=\"Helvetica,sans-Serif\" font-size=\"14.00\">class = verginica</text>\n",
       "</g>\n",
       "<!-- 6&#45;&gt;7 -->\n",
       "<g id=\"edge7\" class=\"edge\">\n",
       "<title>6&#45;&gt;7</title>\n",
       "<path fill=\"none\" stroke=\"black\" d=\"M345.64,-103.73C345.26,-95.52 344.87,-86.86 344.49,-78.56\"/>\n",
       "<polygon fill=\"black\" stroke=\"black\" points=\"347.97,-78.13 344.02,-68.3 340.98,-78.45 347.97,-78.13\"/>\n",
       "</g>\n",
       "<!-- 8 -->\n",
       "<g id=\"node9\" class=\"node\">\n",
       "<title>8</title>\n",
       "<polygon fill=\"#8139e5\" stroke=\"black\" points=\"536,-68 419,-68 419,0 536,0 536,-68\"/>\n",
       "<text text-anchor=\"middle\" x=\"477.5\" y=\"-52.8\" font-family=\"Helvetica,sans-Serif\" font-size=\"14.00\">gini = 0.0</text>\n",
       "<text text-anchor=\"middle\" x=\"477.5\" y=\"-37.8\" font-family=\"Helvetica,sans-Serif\" font-size=\"14.00\">samples = 34</text>\n",
       "<text text-anchor=\"middle\" x=\"477.5\" y=\"-22.8\" font-family=\"Helvetica,sans-Serif\" font-size=\"14.00\">value = [0, 0, 34]</text>\n",
       "<text text-anchor=\"middle\" x=\"477.5\" y=\"-7.8\" font-family=\"Helvetica,sans-Serif\" font-size=\"14.00\">class = verginica</text>\n",
       "</g>\n",
       "<!-- 6&#45;&gt;8 -->\n",
       "<g id=\"edge8\" class=\"edge\">\n",
       "<title>6&#45;&gt;8</title>\n",
       "<path fill=\"none\" stroke=\"black\" d=\"M395.91,-103.73C407.06,-94.33 418.91,-84.35 430.03,-74.99\"/>\n",
       "<polygon fill=\"black\" stroke=\"black\" points=\"432.57,-77.42 437.97,-68.3 428.06,-72.06 432.57,-77.42\"/>\n",
       "</g>\n",
       "</g>\n",
       "</svg>\n"
      ],
      "text/plain": [
       "<graphviz.sources.Source at 0x236e17d6f50>"
      ]
     },
     "execution_count": 21,
     "metadata": {},
     "output_type": "execute_result"
    }
   ],
   "source": [
    "from sklearn import tree\n",
    "import graphviz\n",
    "# DOT data\n",
    "dot_data = tree.export_graphviz(dt, out_file=None, \n",
    "                                feature_names=iris_features,  \n",
    "                                class_names=['setosa', 'versicolor', 'verginica'],\n",
    "                                filled=True)\n",
    "\n",
    "# Draw graph\n",
    "graph = graphviz.Source(dot_data, format=\"png\") \n",
    "graph"
   ]
  },
  {
   "cell_type": "markdown",
   "id": "174f6123",
   "metadata": {},
   "source": [
    "# Understanding the roc and auc curves"
   ]
  },
  {
   "cell_type": "markdown",
   "id": "414b08bb",
   "metadata": {},
   "source": [
    "click here: https://towardsdatascience.com/understanding-the-roc-and-auc-curves-a05b68550b69"
   ]
  }
 ],
 "metadata": {
  "kernelspec": {
   "display_name": "Python 3 (ipykernel)",
   "language": "python",
   "name": "python3"
  },
  "language_info": {
   "codemirror_mode": {
    "name": "ipython",
    "version": 3
   },
   "file_extension": ".py",
   "mimetype": "text/x-python",
   "name": "python",
   "nbconvert_exporter": "python",
   "pygments_lexer": "ipython3",
   "version": "3.10.9"
  }
 },
 "nbformat": 4,
 "nbformat_minor": 5
}
